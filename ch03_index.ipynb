{
 "metadata": {
  "name": "",
  "signature": "sha256:35ce14ba3a291e43648f06b9249d072e1dc5938755c3017d632400feec3f8226"
 },
 "nbformat": 3,
 "nbformat_minor": 0,
 "worksheets": [
  {
   "cells": [
    {
     "cell_type": "markdown",
     "metadata": {},
     "source": [
      "<h1> Chapter 3: Probability and Statistical Distributions </h1>"
     ]
    },
    {
     "cell_type": "markdown",
     "metadata": {},
     "source": [
      "Lies, damned lies, and statistics"
     ]
    },
    {
     "cell_type": "heading",
     "level": 2,
     "metadata": {},
     "source": [
      "<h3> Chapter 3 Book Figures </h3>"
     ]
    },
    {
     "cell_type": "markdown",
     "metadata": {},
     "source": [
      "* [Figure 3.1](fig03_01.ipynb)\n",
      "    Modified to Drew Conway's data science Venn diagram\n",
      "\n"
     ]
    },
    {
     "cell_type": "code",
     "collapsed": false,
     "input": [],
     "language": "python",
     "metadata": {},
     "outputs": []
    }
   ],
   "metadata": {}
  }
 ]
}