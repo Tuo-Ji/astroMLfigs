{
 "metadata": {
  "name": "",
  "signature": "sha256:9de92794e22ec89ade9cb1353444edf523176e538c5d5de338d955088d641dbc"
 },
 "nbformat": 3,
 "nbformat_minor": 0,
 "worksheets": [
  {
   "cells": [
    {
     "cell_type": "markdown",
     "metadata": {},
     "source": [
      "<h1> Chapter 3: Probability and Statistical Distributions </h1>"
     ]
    },
    {
     "cell_type": "markdown",
     "metadata": {},
     "source": [
      "Lies, damned lies, and statistics"
     ]
    },
    {
     "cell_type": "heading",
     "level": 2,
     "metadata": {},
     "source": [
      "<h3> Chapter 3 Book Figures </h3>"
     ]
    },
    {
     "cell_type": "markdown",
     "metadata": {},
     "source": [
      "* [Figure 3.1](fig03_01.ipynb)\n",
      "    Modified to Drew Conway's data science Venn diagram\n",
      "* [Figure 3.2](fig03_02.ipynb)\n",
      "    Conditional probability (a-la MacKay Figure 2.2)\n"
     ]
    },
    {
     "cell_type": "code",
     "collapsed": false,
     "input": [],
     "language": "python",
     "metadata": {},
     "outputs": []
    }
   ],
   "metadata": {}
  }
 ]
}