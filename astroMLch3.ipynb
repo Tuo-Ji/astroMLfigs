{
 "metadata": {
  "name": "",
  "signature": "sha256:50910ad9342d31d195326ae70cb0f82b43dd3d4b3b0887e61285edd1eae1b05c"
 },
 "nbformat": 3,
 "nbformat_minor": 0,
 "worksheets": [
  {
   "cells": [
    {
     "cell_type": "code",
     "collapsed": false,
     "input": [
      "from IPython.display import display_latex, Latex, HTML, display_html\n",
      "%pylab inline"
     ],
     "language": "python",
     "metadata": {},
     "outputs": []
    },
    {
     "cell_type": "code",
     "collapsed": false,
     "input": [
      "s=\"\"\"<html>\n",
      "  <head>\n",
      "     <style> body {font-size: 20px; \n",
      "         font-family: 'Lato', sans-serif;}\n",
      "      body {background-color: #b0c4de;}  \n",
      "      p {font-size: 16px;}  \n",
      "      h1 {text-align: center;}</style>\n",
      "    <!--Use the Lato fonts--> \n",
      "<link href='http://fonts.googleapis.com/css?family=Lato:400,700' rel='stylesheet' type='text/css'>\n",
      "  \n",
      "    <script\n",
      "     src=\"http://d3js.org/d3.v3.min.js\"></script>\n",
      "  </head>\n",
      "  <body>\n",
      "    <h1>astroML examples: Chapter 3</h1>\n",
      "  </body>\n",
      "</html>\"\"\"\n",
      "h=HTML(s); h"
     ],
     "language": "python",
     "metadata": {},
     "outputs": [
      {
       "html": [
        "<html>\n",
        "  <head>\n",
        "     <style> body {font-size: 20px; \n",
        "         font-family: 'Lato', sans-serif;}\n",
        "      body {background-color: #b0c4de;}  \n",
        "      p {font-size: 16px;}  \n",
        "      h1 {text-align: center;}</style>\n",
        "    <!--Use the Lato fonts--> \n",
        "<link href='http://fonts.googleapis.com/css?family=Lato:400,700' rel='stylesheet' type='text/css'>\n",
        "  \n",
        "    <script\n",
        "     src=\"http://d3js.org/d3.v3.min.js\"></script>\n",
        "  </head>\n",
        "  <body>\n",
        "    <h1>astroML examples: Chapter 3</h1>\n",
        "  </body>\n",
        "</html>"
       ],
       "metadata": {},
       "output_type": "pyout",
       "prompt_number": 6,
       "text": [
        "<IPython.core.display.HTML at 0x1080ce310>"
       ]
      }
     ],
     "prompt_number": 6
    },
    {
     "cell_type": "code",
     "collapsed": false,
     "input": [
      "import numpy as np\n",
      "from scipy import stats\n",
      "from matplotlib import pyplot as plt"
     ],
     "language": "python",
     "metadata": {},
     "outputs": [],
     "prompt_number": 7
    },
    {
     "cell_type": "markdown",
     "metadata": {},
     "source": [
      "The first blurb we encounter is percentiles.  Let's just generate some random numbers and go from there."
     ]
    },
    {
     "cell_type": "code",
     "collapsed": false,
     "input": [
      "fig, ax = plt.subplots(nrows=1, ncols=1, figsize=(8, 6));\n",
      "\n",
      "x = np.linspace(-10, 10, num=1000);\n",
      "norm1= stats.norm(loc=0, scale=2.0)\n",
      "y1 = norm1.pdf(x)*1/(1/1+(x-3)**2)\n",
      "\n",
      "plt.plot(x, y1, color='#ff0000')\n",
      "plt.title('A skewed distribution', fontsize=20, fontstyle='italic', visible=True)\n",
      "\n",
      "plt.show()\n"
     ],
     "language": "python",
     "metadata": {},
     "outputs": [
      {
       "metadata": {},
       "output_type": "display_data",
       "png": "[encoded data removed]",
       "text": [
        "<matplotlib.figure.Figure at 0x10c229fd0>"
       ]
      }
     ],
     "prompt_number": 50
    },
    {
     "cell_type": "code",
     "collapsed": false,
     "input": [
      "vals = np.random.normal(loc=0.5, scale=0.15, size=100)\n",
      "val_outs = np.percentile(vals, [25, 50, 75]);\n",
      "print \"val_outs= \", val_outs\n",
      "\n",
      "fig = plt.figure(figsize=(5, 2.5))\n",
      "fig.subplots_adjust(left=0.11, right=0.95, wspace=0.3, bottom=0.17, top=0.9)\n",
      "\n",
      "ax = fig.add_subplot(111)\n",
      "ax.hist(vals, 20, histtype='stepfilled', fc='#CCCCCC', normed=True)\n",
      "ax.set_xlim(-0.2, 1.2)\n",
      "ax.set_ylim(0, 3.601)\n",
      "ax.xaxis.set_major_locator(plt.MaxNLocator(6))\n",
      "ax.set_xlabel('$x$')\n",
      "ax.set_ylabel('$p(x)$')\n"
     ],
     "language": "python",
     "metadata": {},
     "outputs": [
      {
       "output_type": "stream",
       "stream": "stdout",
       "text": [
        "val_outs=  [0.40498561667522726, 0.47575754399147141, 0.5801923732376445]\n"
       ]
      },
      {
       "metadata": {},
       "output_type": "pyout",
       "prompt_number": 87,
       "text": [
        "<matplotlib.text.Text at 0x10ed1c590>"
       ]
      },
      {
       "metadata": {},
       "output_type": "display_data",
       "png": "[encoded data removed]",
       "text": [
        "<matplotlib.figure.Figure at 0x10e8e2850>"
       ]
      }
     ],
     "prompt_number": 87
    },
    {
     "cell_type": "markdown",
     "metadata": {},
     "source": [
      "Let's print some other statistics about the distribution."
     ]
    },
    {
     "cell_type": "code",
     "collapsed": false,
     "input": [
      "print \"\\n Mean: \", np.mean(vals), \"\\n Median\", np.median(vals),\"\\n Variance\", np.var(vals), \"\\n std: \", np.std(vals), \"\\n skew\", stats.skew(vals), \"\\n kurtosis\", stats.kurtosis(vals), "
     ],
     "language": "python",
     "metadata": {},
     "outputs": [
      {
       "output_type": "stream",
       "stream": "stdout",
       "text": [
        "\n",
        " Mean:  0.49134994158 \n",
        " Median 0.475757543991 \n",
        " Variance 0.0221375260148 \n",
        " std:  0.148786847587 \n",
        " skew 0.049125357138 \n",
        " kurtosis -0.0990678321832\n"
       ]
      }
     ],
     "prompt_number": 106
    },
    {
     "cell_type": "code",
     "collapsed": false,
     "input": [
      "np.std(vals, ddof=0)"
     ],
     "language": "python",
     "metadata": {},
     "outputs": [
      {
       "metadata": {},
       "output_type": "pyout",
       "prompt_number": 114,
       "text": [
        "0.14878684758681948"
       ]
      }
     ],
     "prompt_number": 114
    },
    {
     "cell_type": "code",
     "collapsed": false,
     "input": [
      "del stats"
     ],
     "language": "python",
     "metadata": {},
     "outputs": [],
     "prompt_number": 115
    },
    {
     "cell_type": "code",
     "collapsed": false,
     "input": [
      "from astroML import stats"
     ],
     "language": "python",
     "metadata": {},
     "outputs": [],
     "prompt_number": 117
    },
    {
     "cell_type": "code",
     "collapsed": false,
     "input": [
      "stats.sigmaG(vals)"
     ],
     "language": "python",
     "metadata": {},
     "outputs": [
      {
       "metadata": {},
       "output_type": "pyout",
       "prompt_number": 118,
       "text": [
        "0.12988096298830537"
       ]
      }
     ],
     "prompt_number": 118
    },
    {
     "cell_type": "code",
     "collapsed": false,
     "input": [
      "np.std(vals, ddof=1)"
     ],
     "language": "python",
     "metadata": {},
     "outputs": [
      {
       "metadata": {},
       "output_type": "pyout",
       "prompt_number": 120,
       "text": [
        "0.14953640823796244"
       ]
      }
     ],
     "prompt_number": 120
    },
    {
     "cell_type": "code",
     "collapsed": false,
     "input": [
      "del stats"
     ],
     "language": "python",
     "metadata": {},
     "outputs": [],
     "prompt_number": 121
    },
    {
     "cell_type": "code",
     "collapsed": false,
     "input": [
      "from scipy import stats"
     ],
     "language": "python",
     "metadata": {},
     "outputs": [],
     "prompt_number": 122
    },
    {
     "cell_type": "code",
     "collapsed": false,
     "input": [
      "dist = stats.uniform(0, 1)\n",
      "this_dist = stats.uniform(-1, 1)"
     ],
     "language": "python",
     "metadata": {},
     "outputs": [],
     "prompt_number": 130
    },
    {
     "cell_type": "code",
     "collapsed": false,
     "input": [
      "r = dist.rvs(100)"
     ],
     "language": "python",
     "metadata": {},
     "outputs": [],
     "prompt_number": 125
    },
    {
     "cell_type": "code",
     "collapsed": false,
     "input": [
      "fig = plt.figure(figsize=(5, 2.5))\n",
      "\n",
      "ax = fig.add_subplot(111)\n",
      "ax.hist(r, bins=10, histtype='stepfilled', fc='#CCCCCC', normed=True)\n",
      "ax.set_xlim(-0.2, 1.2)\n",
      "ax.set_ylim(0, 1.9)\n",
      "ax.set_xlabel('$x$')\n",
      "ax.set_ylabel('$p(x)$')"
     ],
     "language": "python",
     "metadata": {},
     "outputs": [
      {
       "metadata": {},
       "output_type": "pyout",
       "prompt_number": 129,
       "text": [
        "<matplotlib.text.Text at 0x10f912490>"
       ]
      },
      {
       "metadata": {},
       "output_type": "display_data",
       "png": "[encoded data removed]",
       "text": [
        "<matplotlib.figure.Figure at 0x10eacc350>"
       ]
      }
     ],
     "prompt_number": 129
    },
    {
     "cell_type": "code",
     "collapsed": false,
     "input": [
      "%load http://www.astroml.org/_downloads/fig_transform_distribution.py "
     ],
     "language": "python",
     "metadata": {},
     "outputs": [],
     "prompt_number": 148
    },
    {
     "cell_type": "code",
     "collapsed": false,
     "input": [
      "r\"\"\"\n",
      "Transformation of Distribution\n",
      "------------------------------\n",
      "Figure 3.4.\n",
      "\n",
      "An example of transforming a uniform distribution. In the left panel, x\n",
      "is sampled from a uniform distribution of unit width centered on x = 0.5\n",
      "(:math:`\\mu` = 0 and W = 1; see Section 3.3.1). In the right panel,\n",
      "the distribution is transformed via y = exp(x). The form of the resulting\n",
      "pdf is computed from eq. 3.20.\n",
      "\"\"\"\n",
      "# Author: Jake VanderPlas\n",
      "# License: BSD\n",
      "#   The figure produced by this code is published in the textbook\n",
      "#   \"Statistics, Data Mining, and Machine Learning in Astronomy\" (2013)\n",
      "#   For more information, see http://astroML.github.com\n",
      "#   To report a bug or issue, use the following forum:\n",
      "#    https://groups.google.com/forum/#!forum/astroml-general\n",
      "import numpy as np\n",
      "from scipy import stats\n",
      "from matplotlib import pyplot as plt\n",
      "\n",
      "#----------------------------------------------------------------------\n",
      "# This function adjusts matplotlib settings for a uniform feel in the textbook.\n",
      "# Note that with usetex=True, fonts are rendered with LaTeX.  This may\n",
      "# result in an error if LaTeX is not installed on your system.  In that case,\n",
      "# you can set usetex to False.\n",
      "from astroML.plotting import setup_text_plots\n",
      "setup_text_plots(fontsize=16, usetex=True)\n",
      "\n",
      "#------------------------------------------------------------\n",
      "# Set up the data\n",
      "np.random.seed(0)\n",
      "\n",
      "# create a uniform distribution\n",
      "uniform_dist = stats.uniform(0, 1)\n",
      "x_sample = uniform_dist.rvs(1000)\n",
      "x = np.linspace(-0.5, 1.5, 1000)\n",
      "Px = uniform_dist.pdf(x)\n",
      "\n",
      "# transform the data\n",
      "y_sample = np.exp(x_sample)\n",
      "y = np.exp(x)\n",
      "Py = Px / y\n",
      "\n",
      "#------------------------------------------------------------\n",
      "# Plot the results\n",
      "fig = plt.figure(figsize=(12, 6))\n",
      "fig.subplots_adjust(left=0.11, right=0.95, wspace=0.3, bottom=0.17, top=0.9)\n",
      "\n",
      "ax = fig.add_subplot(121)\n",
      "ax.hist(x_sample, 20, histtype='stepfilled', fc='#CCCCCC', normed=True)\n",
      "ax.plot(x, Px, '-k')\n",
      "ax.set_xlim(-0.2, 1.2)\n",
      "ax.set_ylim(0, 1.4001)\n",
      "ax.xaxis.set_major_locator(plt.MaxNLocator(6))\n",
      "ax.text(0.95, 0.95, r'$p_x(x) = {\\rm Uniform}(x)$',\n",
      "        va='top', ha='right',\n",
      "        transform=ax.transAxes)\n",
      "ax.set_xlabel('$x$')\n",
      "ax.set_ylabel('$p_x(x)$')\n",
      "\n",
      "\n",
      "ax = fig.add_subplot(122)\n",
      "ax.hist(y_sample, 20, histtype='stepfilled', fc='#CCCCCC', normed=True)\n",
      "ax.plot(y, Py, '-k')\n",
      "ax.set_xlim(0.85, 2.9)\n",
      "ax.xaxis.set_major_locator(plt.MaxNLocator(6))\n",
      "ax.text(0.95, 0.95, '$y=\\exp(x)$\\n$p_y(y)=p_x(\\ln y) / y$',\n",
      "        va='top', ha='right',\n",
      "        transform=ax.transAxes)\n",
      "ax.set_xlabel('$y$')\n",
      "ax.set_ylabel('$p_y(y)$')\n",
      "\n",
      "plt.show()\n"
     ],
     "language": "python",
     "metadata": {},
     "outputs": [
      {
       "metadata": {},
       "output_type": "display_data",
       "png": "[encoded data removed]",
       "text": [
        "<matplotlib.figure.Figure at 0x110686810>"
       ]
      }
     ],
     "prompt_number": 153
    },
    {
     "cell_type": "markdown",
     "metadata": {},
     "source": [
      "Gaussian distribution:"
     ]
    },
    {
     "cell_type": "code",
     "collapsed": false,
     "input": [
      "del stats\n",
      "from scipy import stats\n",
      "dist =  stats.norm(0, 1)\n",
      "r = dist.rvs(40)\n",
      "p=dist.pdf(2)"
     ],
     "language": "python",
     "metadata": {},
     "outputs": [],
     "prompt_number": 158
    },
    {
     "cell_type": "code",
     "collapsed": false,
     "input": [
      "from scipy.special import erf"
     ],
     "language": "python",
     "metadata": {},
     "outputs": [],
     "prompt_number": 160
    },
    {
     "cell_type": "code",
     "collapsed": false,
     "input": [
      "erf(0.5)"
     ],
     "language": "python",
     "metadata": {},
     "outputs": [
      {
       "metadata": {},
       "output_type": "pyout",
       "prompt_number": 166,
       "text": [
        "0.52049987781304652"
       ]
      }
     ],
     "prompt_number": 166
    },
    {
     "cell_type": "code",
     "collapsed": false,
     "input": [],
     "language": "python",
     "metadata": {},
     "outputs": []
    }
   ],
   "metadata": {}
  }
 ]
}