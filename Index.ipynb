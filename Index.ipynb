{
 "metadata": {
  "name": "",
  "signature": "sha256:3217f3c09f92177e364654d4894e0add79acb94e1de6b8c758ba01567d96443e"
 },
 "nbformat": 3,
 "nbformat_minor": 0,
 "worksheets": [
  {
   "cells": [
    {
     "cell_type": "markdown",
     "metadata": {},
     "source": [
      "<img src=\"http://press.princeton.edu/images/k10159.gif\" alt=\"astroML Textbook Cover\"/>\n"
     ]
    },
    {
     "cell_type": "heading",
     "level": 1,
     "metadata": {},
     "source": [
      "astroMLfigs"
     ]
    },
    {
     "cell_type": "markdown",
     "metadata": {},
     "source": [
      "Here are some enhanced astroML figures and experiments from the astroML book, IPython notebook, and other fun stuff."
     ]
    },
    {
     "cell_type": "heading",
     "level": 2,
     "metadata": {},
     "source": [
      "Book figures"
     ]
    },
    {
     "cell_type": "markdown",
     "metadata": {},
     "source": [
      "* [Notebook Practice and Pathfinder](ipython_NB_prac.ipynb)\n",
      "* [Chapter 3](astroMLch3.ipynb)\n",
      "\n"
     ]
    },
    {
     "cell_type": "heading",
     "level": 2,
     "metadata": {},
     "source": [
      "Miscellaneous"
     ]
    },
    {
     "cell_type": "markdown",
     "metadata": {},
     "source": [
      "* [What is Zip?](whatIsZip.ipynb)\n"
     ]
    },
    {
     "cell_type": "code",
     "collapsed": false,
     "input": [],
     "language": "python",
     "metadata": {},
     "outputs": []
    }
   ],
   "metadata": {}
  }
 ]
}