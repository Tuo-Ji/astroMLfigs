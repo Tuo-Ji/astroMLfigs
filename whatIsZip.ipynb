{
 "metadata": {
  "name": "",
  "signature": "sha256:c2af044d59327e6fa2c52f628322f6b98b2d680a7936724c9bad663c3c062621"
 },
 "nbformat": 3,
 "nbformat_minor": 0,
 "worksheets": [
  {
   "cells": [
    {
     "cell_type": "markdown",
     "metadata": {},
     "source": [
      "What is the zip function and how does it work:"
     ]
    },
    {
     "cell_type": "code",
     "collapsed": false,
     "input": [
      "import numpy as np"
     ],
     "language": "python",
     "metadata": {},
     "outputs": [],
     "prompt_number": 4
    },
    {
     "cell_type": "code",
     "collapsed": false,
     "input": [
      "Years_of_babies_born = [2012, 2013, 2014]\n",
      "Names_of_babies_born = ['Sarah', 'Ximenes', 'Yoman']\n",
      "for yr, nm in zip(Years_of_babies_born, Names_of_babies_born):\n",
      "    print 'Baby '+nm + ' born in the year '+str(yr)"
     ],
     "language": "python",
     "metadata": {},
     "outputs": [
      {
       "output_type": "stream",
       "stream": "stdout",
       "text": [
        "Baby Sarah born in the year 2012\n",
        "Baby Ximenes born in the year 2013\n",
        "Baby Yoman born in the year 2014\n"
       ]
      }
     ],
     "prompt_number": 2
    },
    {
     "cell_type": "code",
     "collapsed": false,
     "input": [
      "np.shape(zip(Years_of_babies_born, Names_of_babies_born))"
     ],
     "language": "python",
     "metadata": {},
     "outputs": [
      {
       "metadata": {},
       "output_type": "pyout",
       "prompt_number": 7,
       "text": [
        "(3, 2)"
       ]
      }
     ],
     "prompt_number": 7
    },
    {
     "cell_type": "code",
     "collapsed": false,
     "input": [
      "print zip(Years_of_babies_born, Names_of_babies_born)"
     ],
     "language": "python",
     "metadata": {},
     "outputs": [
      {
       "output_type": "stream",
       "stream": "stdout",
       "text": [
        "[(2012, 'Sarah'), (2013, 'Ximenes'), (2014, 'Yoman')]\n"
       ]
      }
     ],
     "prompt_number": 8
    },
    {
     "cell_type": "markdown",
     "metadata": {},
     "source": [
      "So, zip really just merges tuples, I guess.  Which is what its tooltip told us:\n",
      "\n",
      "\"Return a list of tuples, where each tuple contains the i-th element\n",
      "from each of the argument sequences.  The returned list is truncated\n",
      "in length to the length of the shortest argument sequence.\"\n",
      "\n",
      "What is the type of the zip?"
     ]
    },
    {
     "cell_type": "code",
     "collapsed": false,
     "input": [
      "type(Names_of_babies_born)"
     ],
     "language": "python",
     "metadata": {},
     "outputs": [
      {
       "metadata": {},
       "output_type": "pyout",
       "prompt_number": 11,
       "text": [
        "list"
       ]
      }
     ],
     "prompt_number": 11
    },
    {
     "cell_type": "code",
     "collapsed": false,
     "input": [
      "type(Years_of_babies_born) "
     ],
     "language": "python",
     "metadata": {},
     "outputs": [
      {
       "metadata": {},
       "output_type": "pyout",
       "prompt_number": 12,
       "text": [
        "list"
       ]
      }
     ],
     "prompt_number": 12
    },
    {
     "cell_type": "code",
     "collapsed": false,
     "input": [
      "type(zip(Years_of_babies_born, Names_of_babies_born))"
     ],
     "language": "python",
     "metadata": {},
     "outputs": [
      {
       "metadata": {},
       "output_type": "pyout",
       "prompt_number": 13,
       "text": [
        "list"
       ]
      }
     ],
     "prompt_number": 13
    },
    {
     "cell_type": "code",
     "collapsed": false,
     "input": [
      "type((2012,2001, 2010))"
     ],
     "language": "python",
     "metadata": {},
     "outputs": [
      {
       "metadata": {},
       "output_type": "pyout",
       "prompt_number": 16,
       "text": [
        "tuple"
       ]
      }
     ],
     "prompt_number": 16
    },
    {
     "cell_type": "code",
     "collapsed": false,
     "input": [
      "type(zip((2012,2001, 2010), Names_of_babies_born))"
     ],
     "language": "python",
     "metadata": {},
     "outputs": [
      {
       "metadata": {},
       "output_type": "pyout",
       "prompt_number": 15,
       "text": [
        "list"
       ]
      }
     ],
     "prompt_number": 15
    },
    {
     "cell_type": "code",
     "collapsed": false,
     "input": [],
     "language": "python",
     "metadata": {},
     "outputs": []
    }
   ],
   "metadata": {}
  }
 ]
}