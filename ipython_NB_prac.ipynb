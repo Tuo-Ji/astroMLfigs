{
 "metadata": {
  "name": "",
  "signature": "sha256:9eef58e35808450ff328be974a473c36c178bc86c44475637cd0fb29e0c456f7"
 },
 "nbformat": 3,
 "nbformat_minor": 0,
 "worksheets": [
  {
   "cells": [
    {
     "cell_type": "code",
     "collapsed": false,
     "input": [
      "from IPython.display import display_latex, Latex, HTML, display_html\n",
      "%pylab inline"
     ],
     "language": "python",
     "metadata": {},
     "outputs": [
      {
       "output_type": "stream",
       "stream": "stdout",
       "text": [
        "Populating the interactive namespace from numpy and matplotlib\n"
       ]
      }
     ],
     "prompt_number": 1
    },
    {
     "cell_type": "code",
     "collapsed": false,
     "input": [
      "s=\"\"\"<html>\n",
      "  <head>\n",
      "     <style> body {font-size: 20px; \n",
      "         font-family: 'Lato', sans-serif;}\n",
      "      body {background-color: #b0c4de;}  \n",
      "      p {font-size: 16px;}  \n",
      "      h1 {text-align: center;}</style>\n",
      "    <!--Use the Lato fonts--> \n",
      "<link href='http://fonts.googleapis.com/css?family=Lato:400,700' rel='stylesheet' type='text/css'>\n",
      "  \n",
      "    <script\n",
      "     src=\"http://d3js.org/d3.v3.min.js\"></script>\n",
      "  </head>\n",
      "  <body>\n",
      "    <h1>Hello.  Welcome to my IPython notebook.</h1>\n",
      "  </body>\n",
      "</html>\"\"\"\n",
      "h=HTML(s); h"
     ],
     "language": "python",
     "metadata": {},
     "outputs": [
      {
       "html": [
        "<html>\n",
        "  <head>\n",
        "     <style> body {font-size: 20px; \n",
        "         font-family: 'Lato', sans-serif;}\n",
        "      body {background-color: #b0c4de;}  \n",
        "      p {font-size: 16px;}  \n",
        "      h1 {text-align: center;}</style>\n",
        "    <!--Use the Lato fonts--> \n",
        "<link href='http://fonts.googleapis.com/css?family=Lato:400,700' rel='stylesheet' type='text/css'>\n",
        "  \n",
        "    <script\n",
        "     src=\"http://d3js.org/d3.v3.min.js\"></script>\n",
        "  </head>\n",
        "  <body>\n",
        "    <h1>Hello.  Welcome to my IPython notebook.</h1>\n",
        "  </body>\n",
        "</html>"
       ],
       "metadata": {},
       "output_type": "pyout",
       "prompt_number": 2,
       "text": [
        "<IPython.core.display.HTML at 0x1080e4050>"
       ]
      }
     ],
     "prompt_number": 2
    },
    {
     "cell_type": "markdown",
     "metadata": {},
     "source": [
      "Edited by Michael Gully-Santiago on July 5, 2014.\n",
      "\n",
      "Contact: gully@astro.as.utexas.edu\n",
      "\n",
      "This notebook contains a modified version of Figure 3.8 from Statistics, Data Mining, and Machine Learning in Astronomy: A Practical Python Guide.  The original version is located at: http://www.astroml.org/book_figures/chapter3/fig_gaussian_distribution.html  Original author of the figure is Jake Vanderplas."
     ]
    },
    {
     "cell_type": "code",
     "collapsed": false,
     "input": [
      "import numpy as np\n",
      "from scipy.stats import norm\n",
      "from matplotlib import pyplot as plt"
     ],
     "language": "python",
     "metadata": {},
     "outputs": [],
     "prompt_number": 3
    },
    {
     "cell_type": "code",
     "collapsed": false,
     "input": [
      "from astroML.plotting import setup_text_plots\n",
      "setup_text_plots(fontsize=16, usetex=True)"
     ],
     "language": "python",
     "metadata": {},
     "outputs": [],
     "prompt_number": 4
    },
    {
     "cell_type": "markdown",
     "metadata": {},
     "source": [
      "Let's start with section 3.3.2- Gaussians (normal) distribution.  Equation 3.43 is:\n",
      "\n",
      "$p(x \\mid \\mu, \\sigma)=\\frac{1}{\\sigma\\sqrt{2\\pi}}\\exp(\\frac{-(x-\\mu)^2}{2\\sigma^2})$\n",
      "\n",
      "Let's break that down into Python code.  \n",
      "\n",
      "First, just pick some values and axes ranges.  We will display $-10 < x < 10$, so why not $\\sigma$ values near $\\sim 1$.  Our samples will be $\\delta x = 0.01$.\n"
     ]
    },
    {
     "cell_type": "code",
     "collapsed": false,
     "input": [
      "sigma_values = [0.5, 1.0, 2.0]\n",
      "linestyles = ['-', '--', ':']\n",
      "mu = 0\n",
      "x = np.linspace(-10, 10, 1000)"
     ],
     "language": "python",
     "metadata": {},
     "outputs": [],
     "prompt_number": 5
    },
    {
     "cell_type": "markdown",
     "metadata": {},
     "source": [
      "We're close to actually plotting the thing, so let's make sure the figures are loaded up as needed.  The book used values of 5 x 3.75, which I'm assuming has units of inches.  I prefer a little bit larger."
     ]
    },
    {
     "cell_type": "code",
     "collapsed": false,
     "input": [
      "fig, ax = plt.subplots(figsize=(8, 6));"
     ],
     "language": "python",
     "metadata": {},
     "outputs": [
      {
       "metadata": {},
       "output_type": "display_data",
       "png": "[encoded data removed]",
       "text": [
        "<matplotlib.figure.Figure at 0x10a52ead0>"
       ]
      }
     ],
     "prompt_number": 6
    },
    {
     "cell_type": "markdown",
     "metadata": {},
     "source": [
      "Next we will follow the code, but I am not familiar with this zip command so I'm going to get a tooltip, which you can do in IPython notebook by hitting Esc-Shift-Tab.  I was still a bit confused so I made a separated IPython sandbox named whatIsZip.ipynb, it should be in the same directory as this one.  Now that I figured out that Zip is just a way of smashing arrays into each other, let's move on to this for loop."
     ]
    },
    {
     "cell_type": "code",
     "collapsed": false,
     "input": [
      "for sigma, ls in zip(sigma_values, linestyles):\n",
      "    # create a gaussian / normal distribution\n",
      "    dist = norm(mu, sigma)"
     ],
     "language": "python",
     "metadata": {},
     "outputs": [],
     "prompt_number": 7
    },
    {
     "cell_type": "markdown",
     "metadata": {},
     "source": [
      "norm is where all the action happens.  It's in the tooltips."
     ]
    },
    {
     "cell_type": "code",
     "collapsed": false,
     "input": [
      "type(dist)"
     ],
     "language": "python",
     "metadata": {},
     "outputs": [
      {
       "metadata": {},
       "output_type": "pyout",
       "prompt_number": 8,
       "text": [
        "scipy.stats._distn_infrastructure.rv_frozen"
       ]
      }
     ],
     "prompt_number": 8
    },
    {
     "cell_type": "code",
     "collapsed": false,
     "input": [
      "type(dist.pdf)\n",
      "val1 = dist.pdf(x)\n",
      "type(val1)"
     ],
     "language": "python",
     "metadata": {},
     "outputs": [
      {
       "metadata": {},
       "output_type": "pyout",
       "prompt_number": 9,
       "text": [
        "numpy.ndarray"
       ]
      }
     ],
     "prompt_number": 9
    },
    {
     "cell_type": "markdown",
     "metadata": {},
     "source": [
      "I don't fully understand the labelling.  Something to come back to.  Let's look at the figure:"
     ]
    },
    {
     "cell_type": "code",
     "collapsed": false,
     "input": [
      "for sigma, ls in zip(sigma_values, linestyles):\n",
      "    # create a gaussian / normal distribution\n",
      "    dist = norm(mu, sigma)\n",
      "    plt.plot(x, dist.pdf(x), ls=ls, c='tan', label=r'$\\mu=%i,\\ \\sigma=%.1f$' % (mu, sigma))\n",
      "    \n",
      "plt.xlim(-6, 10)\n",
      "plt.ylim(0, 0.85)\n",
      "\n",
      "plt.xlabel('$x$')\n",
      "plt.ylabel(r'$p(x|\\mu,\\sigma)$')\n",
      "plt.title(label='Gaussian Distribution')\n",
      "\n",
      "plt.legend()\n",
      "plt.show()\n"
     ],
     "language": "python",
     "metadata": {},
     "outputs": [
      {
       "metadata": {},
       "output_type": "display_data",
       "png": "[encoded data removed]",
       "text": [
        "<matplotlib.figure.Figure at 0x10a52ea10>"
       ]
      }
     ],
     "prompt_number": 10
    },
    {
     "cell_type": "markdown",
     "metadata": {},
     "source": [
      "Percentiles are discussed in section 3.2 (page 81)"
     ]
    },
    {
     "cell_type": "code",
     "collapsed": false,
     "input": [
      "type(np)"
     ],
     "language": "python",
     "metadata": {},
     "outputs": [
      {
       "metadata": {},
       "output_type": "pyout",
       "prompt_number": 11,
       "text": [
        "module"
       ]
      }
     ],
     "prompt_number": 11
    },
    {
     "cell_type": "code",
     "collapsed": false,
     "input": [
      "dir(astroML)"
     ],
     "language": "python",
     "metadata": {},
     "outputs": [
      {
       "ename": "NameError",
       "evalue": "name 'astroML' is not defined",
       "output_type": "pyerr",
       "traceback": [
        "\u001b[0;31m---------------------------------------------------------------------------\u001b[0m\n\u001b[0;31mNameError\u001b[0m                                 Traceback (most recent call last)",
        "\u001b[0;32m<ipython-input-14-9f20ff3faf19>\u001b[0m in \u001b[0;36m<module>\u001b[0;34m()\u001b[0m\n\u001b[0;32m----> 1\u001b[0;31m \u001b[0mdir\u001b[0m\u001b[0;34m(\u001b[0m\u001b[0mastroML\u001b[0m\u001b[0;34m)\u001b[0m\u001b[0;34m\u001b[0m\u001b[0m\n\u001b[0m",
        "\u001b[0;31mNameError\u001b[0m: name 'astroML' is not defined"
       ]
      }
     ],
     "prompt_number": 14
    },
    {
     "cell_type": "code",
     "collapsed": false,
     "input": [
      "import astroML"
     ],
     "language": "python",
     "metadata": {},
     "outputs": [],
     "prompt_number": 15
    },
    {
     "cell_type": "code",
     "collapsed": false,
     "input": [
      "dir(astroML.plotting.mcmc)"
     ],
     "language": "python",
     "metadata": {},
     "outputs": [
      {
       "metadata": {},
       "output_type": "pyout",
       "prompt_number": 18,
       "text": [
        "['__builtins__',\n",
        " '__doc__',\n",
        " '__file__',\n",
        " '__name__',\n",
        " '__package__',\n",
        " 'convert_to_stdev',\n",
        " 'np',\n",
        " 'plot_mcmc',\n",
        " 'plt']"
       ]
      }
     ],
     "prompt_number": 18
    },
    {
     "cell_type": "code",
     "collapsed": false,
     "input": [
      "del astroML"
     ],
     "language": "python",
     "metadata": {},
     "outputs": [],
     "prompt_number": 19
    },
    {
     "cell_type": "code",
     "collapsed": false,
     "input": [
      "dir(astroML)"
     ],
     "language": "python",
     "metadata": {},
     "outputs": [
      {
       "ename": "NameError",
       "evalue": "name 'astroML' is not defined",
       "output_type": "pyerr",
       "traceback": [
        "\u001b[0;31m---------------------------------------------------------------------------\u001b[0m\n\u001b[0;31mNameError\u001b[0m                                 Traceback (most recent call last)",
        "\u001b[0;32m<ipython-input-21-9f20ff3faf19>\u001b[0m in \u001b[0;36m<module>\u001b[0;34m()\u001b[0m\n\u001b[0;32m----> 1\u001b[0;31m \u001b[0mdir\u001b[0m\u001b[0;34m(\u001b[0m\u001b[0mastroML\u001b[0m\u001b[0;34m)\u001b[0m\u001b[0;34m\u001b[0m\u001b[0m\n\u001b[0m",
        "\u001b[0;31mNameError\u001b[0m: name 'astroML' is not defined"
       ]
      }
     ],
     "prompt_number": 21
    },
    {
     "cell_type": "code",
     "collapsed": false,
     "input": [],
     "language": "python",
     "metadata": {},
     "outputs": []
    }
   ],
   "metadata": {}
  }
 ]
}