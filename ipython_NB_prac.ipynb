{
 "metadata": {
  "name": "",
  "signature": "sha256:d65a6ac64374acef77932ae6ce5974a9f84664f946631719b83b72de1260ffec"
 },
 "nbformat": 3,
 "nbformat_minor": 0,
 "worksheets": [
  {
   "cells": [
    {
     "cell_type": "code",
     "collapsed": false,
     "input": [
      "from IPython.display import display_latex, Latex, HTML, display_html\n",
      "%pylab inline"
     ],
     "language": "python",
     "metadata": {},
     "outputs": [
      {
       "output_type": "stream",
       "stream": "stdout",
       "text": [
        "Populating the interactive namespace from numpy and matplotlib\n"
       ]
      }
     ],
     "prompt_number": 41
    },
    {
     "cell_type": "code",
     "collapsed": false,
     "input": [
      "s=\"\"\"<html>\n",
      "  <head>\n",
      "     <style> body {font-size: 20px; \n",
      "         font-family: 'Lato', sans-serif;}\n",
      "      body {background-color: #b0c4de;}  \n",
      "      p {font-size: 16px;}  \n",
      "      h1 {text-align: center;}</style>\n",
      "    <!--Use the Lato fonts--> \n",
      "<link href='http://fonts.googleapis.com/css?family=Lato:400,700' rel='stylesheet' type='text/css'>\n",
      "  \n",
      "    <script\n",
      "     src=\"http://d3js.org/d3.v3.min.js\"></script>\n",
      "  </head>\n",
      "  <body>\n",
      "    <h1>Hello.  Welcome to my IPython notebook.</h1>\n",
      "  </body>\n",
      "</html>\"\"\"\n",
      "h=HTML(s); h"
     ],
     "language": "python",
     "metadata": {},
     "outputs": [
      {
       "html": [
        "<html>\n",
        "  <head>\n",
        "     <style> body {font-size: 20px; \n",
        "         font-family: 'Lato', sans-serif;}\n",
        "      body {background-color: #b0c4de;}  \n",
        "      p {font-size: 16px;}  \n",
        "      h1 {text-align: center;}</style>\n",
        "    <!--Use the Lato fonts--> \n",
        "<link href='http://fonts.googleapis.com/css?family=Lato:400,700' rel='stylesheet' type='text/css'>\n",
        "  \n",
        "    <script\n",
        "     src=\"http://d3js.org/d3.v3.min.js\"></script>\n",
        "  </head>\n",
        "  <body>\n",
        "    <h1>Hello.  Welcome to my IPython notebook.</h1>\n",
        "  </body>\n",
        "</html>"
       ],
       "metadata": {},
       "output_type": "pyout",
       "prompt_number": 42,
       "text": [
        "<IPython.core.display.HTML at 0x10bf9c590>"
       ]
      }
     ],
     "prompt_number": 42
    },
    {
     "cell_type": "markdown",
     "metadata": {},
     "source": [
      "Edited by Michael Gully-Santiago on July 5, 2014.\n",
      "\n",
      "Contact: gully@astro.as.utexas.edu\n",
      "\n",
      "This notebook contains a modified version of Figure 3.8 from Statistics, Data Mining, and Machine Learning in Astronomy: A Practical Python Guide.  The original version is located at: http://www.astroml.org/book_figures/chapter3/fig_gaussian_distribution.html  Original author of the figure is Jake Vanderplas."
     ]
    },
    {
     "cell_type": "code",
     "collapsed": false,
     "input": [
      "import numpy as np\n",
      "from scipy.stats import norm\n",
      "from matplotlib import pyplot as plt"
     ],
     "language": "python",
     "metadata": {},
     "outputs": [],
     "prompt_number": 43
    },
    {
     "cell_type": "code",
     "collapsed": false,
     "input": [
      "from astroML.plotting import setup_text_plots\n",
      "setup_text_plots(fontsize=16, usetex=True)"
     ],
     "language": "python",
     "metadata": {},
     "outputs": [],
     "prompt_number": 44
    },
    {
     "cell_type": "markdown",
     "metadata": {},
     "source": [
      "Let's start with section 3.3.2- Gaussians (normal) distribution.  Equation 3.43 is:\n",
      "\n",
      "$p(x \\mid \\mu, \\sigma)=\\frac{1}{\\sigma\\sqrt{2\\pi}}\\exp(\\frac{-(x-\\mu)^2}{2\\sigma^2})$\n",
      "\n",
      "Let's break that down into Python code.  \n",
      "\n",
      "First, just pick some values and axes ranges.  We will display $-10 < x < 10$, so why not $\\sigma$ values near $\\sim 1$.  Our samples will be $\\delta x = 0.01$.\n"
     ]
    },
    {
     "cell_type": "code",
     "collapsed": false,
     "input": [
      "sigma_values = [0.5, 1.0, 2.0]\n",
      "linestyles = ['-', '--', ':']\n",
      "mu = 0\n",
      "x = np.linspace(-10, 10, 1000)"
     ],
     "language": "python",
     "metadata": {},
     "outputs": [],
     "prompt_number": 45
    },
    {
     "cell_type": "markdown",
     "metadata": {},
     "source": [
      "We're close to actually plotting the thing, so let's make sure the figures are loaded up as needed.  The book used values of 5 x 3.75, which I'm assuming has units of inches.  I prefer a little bit larger."
     ]
    },
    {
     "cell_type": "code",
     "collapsed": false,
     "input": [
      "fig, ax = plt.subplots(figsize=(8, 6))"
     ],
     "language": "python",
     "metadata": {},
     "outputs": [
      {
       "metadata": {},
       "output_type": "display_data",
       "png": "[encoded data removed]",
       "text": [
        "<matplotlib.figure.Figure at 0x10bf9c910>"
       ]
      }
     ],
     "prompt_number": 46
    },
    {
     "cell_type": "markdown",
     "metadata": {},
     "source": [
      "Next we will follow the code, but I am not familiar with this zip command so I'm going to get a tooltip, which you can do in IPython notebook by hitting Esc-Shift-Tab.  I was still a bit confused so I made a separated IPython sandbox named whatIsZip.ipynb, it should be in the same directory as this one.  Now that I figured out that Zip is just a way of smashing arrays into each other, let's move on to this for loop."
     ]
    },
    {
     "cell_type": "code",
     "collapsed": false,
     "input": [
      "for sigma, ls in zip(sigma_values, linestyles):\n",
      "    # create a gaussian / normal distribution\n",
      "    dist = norm(mu, sigma)"
     ],
     "language": "python",
     "metadata": {},
     "outputs": [],
     "prompt_number": 47
    },
    {
     "cell_type": "markdown",
     "metadata": {},
     "source": [
      "norm is where all the action happens.  It's in the tooltips."
     ]
    },
    {
     "cell_type": "code",
     "collapsed": false,
     "input": [
      "type(dist)"
     ],
     "language": "python",
     "metadata": {},
     "outputs": [
      {
       "metadata": {},
       "output_type": "pyout",
       "prompt_number": 48,
       "text": [
        "scipy.stats._distn_infrastructure.rv_frozen"
       ]
      }
     ],
     "prompt_number": 48
    },
    {
     "cell_type": "code",
     "collapsed": false,
     "input": [
      "type(dist.pdf)"
     ],
     "language": "python",
     "metadata": {},
     "outputs": [
      {
       "metadata": {},
       "output_type": "pyout",
       "prompt_number": 49,
       "text": [
        "instancemethod"
       ]
      }
     ],
     "prompt_number": 49
    },
    {
     "cell_type": "markdown",
     "metadata": {},
     "source": [
      "I don't fully understand the labelling.  Something to come back to.  Let's look at the figure:"
     ]
    },
    {
     "cell_type": "code",
     "collapsed": false,
     "input": [
      "for sigma, ls in zip(sigma_values, linestyles):\n",
      "    # create a gaussian / normal distribution\n",
      "    dist = norm(mu, sigma)\n",
      "    plt.plot(x, dist.pdf(x), ls=ls, c='tan', label=r'$\\mu=%i,\\ \\sigma=%.1f$' % (mu, sigma))\n",
      "    \n",
      "plt.xlim(-5, 5)\n",
      "plt.ylim(0, 0.85)\n",
      "\n",
      "plt.xlabel('$x$')\n",
      "plt.ylabel(r'$p(x|\\mu,\\sigma)$')\n",
      "plt.title('Gaussian Distribution')\n",
      "\n",
      "plt.legend()\n",
      "plt.show()\n"
     ],
     "language": "python",
     "metadata": {},
     "outputs": [
      {
       "metadata": {},
       "output_type": "display_data",
       "png": "[encoded data removed]",
       "text": [
        "<matplotlib.figure.Figure at 0x10bede1d0>"
       ]
      }
     ],
     "prompt_number": 54
    },
    {
     "cell_type": "code",
     "collapsed": false,
     "input": [],
     "language": "python",
     "metadata": {},
     "outputs": []
    }
   ],
   "metadata": {}
  }
 ]
}