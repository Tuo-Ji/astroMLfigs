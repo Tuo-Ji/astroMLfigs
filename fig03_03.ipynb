{
 "metadata": {
  "name": "",
  "signature": "sha256:4dd08aaae97ec3dd60535fd73f0e9ba668bd45a56990420b1ae7edd539454e6a"
 },
 "nbformat": 3,
 "nbformat_minor": 0,
 "worksheets": [
  {
   "cells": [
    {
     "cell_type": "markdown",
     "metadata": {},
     "source": [
      "<h1> Figure 3.3 </h1>\n",
      "<h2> Prisoner's Dilemma</h2>"
     ]
    },
    {
     "cell_type": "code",
     "collapsed": false,
     "input": [
      "%pylab inline"
     ],
     "language": "python",
     "metadata": {},
     "outputs": [
      {
       "output_type": "stream",
       "stream": "stdout",
       "text": [
        "Populating the interactive namespace from numpy and matplotlib\n"
       ]
      }
     ],
     "prompt_number": 1
    },
    {
     "cell_type": "code",
     "collapsed": false,
     "input": [
      "%load http://www.astroml.org/_downloads/fig_contingency_table.py"
     ],
     "language": "python",
     "metadata": {},
     "outputs": [],
     "prompt_number": 2
    },
    {
     "cell_type": "code",
     "collapsed": false,
     "input": [
      "\"\"\"\n",
      "A 2x2 Contingency Table\n",
      "-----------------------\n",
      "Figure 3.3.\n",
      "\n",
      "A contingency table showing p(T|D).\n",
      "\"\"\"\n",
      "# Author: Jake VanderPlas\n",
      "# License: BSD\n",
      "#   The figure produced by this code is published in the textbook\n",
      "#   \"Statistics, Data Mining, and Machine Learning in Astronomy\" (2013)\n",
      "#   For more information, see http://astroML.github.com\n",
      "#   To report a bug or issue, use the following forum:\n",
      "#    https://groups.google.com/forum/#!forum/astroml-general\n",
      "from matplotlib import pyplot as plt\n",
      "\n",
      "#----------------------------------------------------------------------\n",
      "# This function adjusts matplotlib settings for a uniform feel in the textbook.\n",
      "# Note that with usetex=True, fonts are rendered with LaTeX.  This may\n",
      "# result in an error if LaTeX is not installed on your system.  In that case,\n",
      "# you can set usetex to False.\n",
      "from astroML.plotting import setup_text_plots\n",
      "setup_text_plots(fontsize=8, usetex=True)\n",
      "\n",
      "fig = plt.figure(figsize=(2, 2), facecolor='w')\n",
      "ax = fig.add_axes((0, 0, 1, 1), xticks=[], yticks=[], frameon=False)\n",
      "\n",
      "for i in [-1, 0, 1]:\n",
      "    ax.plot([i, i], [-1, 1], '-k')\n",
      "    ax.plot([-1, 1], [i, i], '-k')\n",
      "\n",
      "kwds = dict(ha='center', va='center', size=11)\n",
      "\n",
      "ax.text(-0.5, 1.15, '0', **kwds)\n",
      "ax.text(0.5, 1.15, '1', **kwds)\n",
      "ax.text(0, 1.25, 'T', **kwds)\n",
      "\n",
      "ax.text(-1.15, 0.5, '0', **kwds)\n",
      "ax.text(-1.15, -0.5, '1', **kwds)\n",
      "ax.text(-1.25, 0, 'D', **kwds)\n",
      "\n",
      "kwds['size'] = 14\n",
      "\n",
      "ax.text(0.5, 0.5, '$\\epsilon_{fP}$', **kwds)\n",
      "ax.text(-0.5, 0.5, '$1 - \\epsilon_{fP}$', **kwds)\n",
      "ax.text(-0.5, -0.5, '$\\epsilon_{fN}$', **kwds)\n",
      "ax.text(0.5, -0.5, '$1 - \\epsilon_{fN}$', **kwds)\n",
      "\n",
      "ax.set_xlim(-1.5, 1.2)\n",
      "ax.set_ylim(-1.2, 1.5)\n",
      "\n",
      "plt.show()\n"
     ],
     "language": "python",
     "metadata": {},
     "outputs": [
      {
       "metadata": {},
       "output_type": "display_data",
       "png": "[encoded data removed]",
       "text": [
        "<matplotlib.figure.Figure at 0x10801ad10>"
       ]
      }
     ],
     "prompt_number": 3
    },
    {
     "cell_type": "markdown",
     "metadata": {},
     "source": [
      "Note that this figure was the subject of a [Text Erratum](https://github.com/astroML/text_errata).  I scrutinized the figure and text and was not able to substantiate the erratum.  What am I missing?  I submitted an issue to the astroML erratum page."
     ]
    },
    {
     "cell_type": "markdown",
     "metadata": {},
     "source": [
      "<h2 align=\"center\" > The modified figure</h2>"
     ]
    },
    {
     "cell_type": "markdown",
     "metadata": {},
     "source": [
      "This is a simple table-like figure.  Let's modify it to look like the prototypical example of game theory, \"the Prisoner's Dilemma\"."
     ]
    },
    {
     "cell_type": "code",
     "collapsed": false,
     "input": [
      "\"\"\"\n",
      "A 2x2 Contingency Table\n",
      "-----------------------\n",
      "Figure 3.3.\n",
      "\n",
      "A contingency table showing p(T|D).\n",
      "\"\"\"\n",
      "# Author: Jake VanderPlas\n",
      "# License: BSD\n",
      "#   The figure produced by this code is published in the textbook\n",
      "#   \"Statistics, Data Mining, and Machine Learning in Astronomy\" (2013)\n",
      "#   For more information, see http://astroML.github.com\n",
      "#   To report a bug or issue, use the following forum:\n",
      "#    https://groups.google.com/forum/#!forum/astroml-general\n",
      "from matplotlib import pyplot as plt\n",
      "\n",
      "#----------------------------------------------------------------------\n",
      "# This function adjusts matplotlib settings for a uniform feel in the textbook.\n",
      "# Note that with usetex=True, fonts are rendered with LaTeX.  This may\n",
      "# result in an error if LaTeX is not installed on your system.  In that case,\n",
      "# you can set usetex to False.\n",
      "from astroML.plotting import setup_text_plots\n",
      "setup_text_plots(fontsize=16, usetex=True)\n",
      "\n",
      "fig = plt.figure(figsize=(4, 4), facecolor='w')\n",
      "ax = fig.add_axes((0, 0, 2, 2), xticks=[], yticks=[], frameon=False)\n",
      "\n",
      "for i in [-2, 0, 2]:\n",
      "    ax.plot([i, i], [-2, 2], '-k')\n",
      "    ax.plot([-2, 2], [i, i], '-k')\n",
      "\n",
      "kwds = dict(ha='center', va='center', size=20)\n",
      "\n",
      "ax.text(-1.0, 2.3, 'Cooperate', **kwds)\n",
      "ax.text(1.0, 2.3, 'Defect', **kwds)\n",
      "ax.text(0, 2.5, 'Prisoner A', color='#ff0000',**kwds)\n",
      "\n",
      "ax.text(-2.5, 1.0, 'Cooperate', **kwds)\n",
      "ax.text(-2.5, -1.0, 'Defect', **kwds)\n",
      "ax.text(-2.7, 0, 'Prisoner B', color='#0000ff', **kwds)\n",
      "\n",
      "kwds['size'] = 20\n",
      "\n",
      "\n",
      "ax.text(0.9, 1.0, '0', color='#ff0000', **kwds)\n",
      "ax.text(1.0, 1.0, ',', color='#000000', **kwds)\n",
      "ax.text(1.2, 1.0, '-20', color='#0000ff', **kwds)\n",
      "\n",
      "#defect - defect\n",
      "ax.text(0.85, -1.0, '-6', color='#ff0000', **kwds)\n",
      "ax.text(1.0, -1.0, ',', color='#000000', **kwds)\n",
      "ax.text(1.1, -1.0, '-6', color='#0000ff', **kwds)\n",
      "\n",
      "ax.text(-1.15, 1.0, '-1', color='#ff0000', **kwds)\n",
      "ax.text(-1.0, 1.0, ',', color='#000000', **kwds)\n",
      "ax.text(-0.9, 1.0, '-1', color='#0000ff', **kwds)\n",
      "\n",
      "ax.text(-1.2, -1.0, '-20', color='#ff0000', **kwds)\n",
      "ax.text(-1.0, -1.0, ',', color='#000000', **kwds)\n",
      "ax.text(-0.9, -1.0, '0', color='#0000ff', **kwds)\n",
      "\n",
      "ax.set_xlim(-3, 2.4)\n",
      "ax.set_ylim(-2.4, 3)\n",
      "\n",
      "plt.show()"
     ],
     "language": "python",
     "metadata": {},
     "outputs": [
      {
       "metadata": {},
       "output_type": "display_data",
       "png": "[encoded data removed]",
       "text": [
        "<matplotlib.figure.Figure at 0x10c00e1d0>"
       ]
      }
     ],
     "prompt_number": 25
    },
    {
     "cell_type": "markdown",
     "metadata": {},
     "source": [
      "The figure shows the classic [prisoner's dilemma](http://en.wikipedia.org/wiki/Prisoner's_dilemma) game from game theory economics.  The numbers represent jail sentences in years, represented as a negative number since years spent in jail are \"lost\".  The key idea of the prisoner's dilemma is that the *dominant strategy* is always to defect.  In other words, regardless of how your accomplice behaves, you will spend fewer years in prison if you defect than if you cooperate.  "
     ]
    },
    {
     "cell_type": "code",
     "collapsed": false,
     "input": [],
     "language": "python",
     "metadata": {},
     "outputs": []
    }
   ],
   "metadata": {}
  }
 ]
}