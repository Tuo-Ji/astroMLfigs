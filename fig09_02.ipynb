{
 "metadata": {
  "name": "",
  "signature": "sha256:3f18b533ee266ea901fab4b45be588a4cb64fc5da876c4b64cd0a5aa0ba82225"
 },
 "nbformat": 3,
 "nbformat_minor": 0,
 "worksheets": [
  {
   "cells": [
    {
     "cell_type": "markdown",
     "metadata": {},
     "source": [
      "<h1> Figure 9.2 </h1>\n",
      "<h2> Naive Bayes </h2>"
     ]
    },
    {
     "cell_type": "code",
     "collapsed": false,
     "input": [
      "%pylab inline"
     ],
     "language": "python",
     "metadata": {},
     "outputs": [
      {
       "output_type": "stream",
       "stream": "stdout",
       "text": [
        "Populating the interactive namespace from numpy and matplotlib\n"
       ]
      },
      {
       "output_type": "stream",
       "stream": "stderr",
       "text": [
        "WARNING: pylab import has clobbered these variables: ['dist', 'norm']\n",
        "`%matplotlib` prevents importing * from pylab and numpy\n"
       ]
      }
     ],
     "prompt_number": 3
    },
    {
     "cell_type": "markdown",
     "metadata": {},
     "source": [
      "Here is the original code:"
     ]
    },
    {
     "cell_type": "code",
     "collapsed": false,
     "input": [
      "%load http://www.astroml.org/_downloads/fig_simple_naivebayes.py"
     ],
     "language": "python",
     "metadata": {},
     "outputs": [],
     "prompt_number": 27
    },
    {
     "cell_type": "code",
     "collapsed": false,
     "input": [
      "\"\"\"\n",
      "Simple Gaussian Naive Bayes Classification\n",
      "------------------------------------------\n",
      "Figure 9.2\n",
      "\n",
      "A decision boundary computed for a simple data set using Gaussian naive Bayes\n",
      "classification. The line shows the decision boundary, which corresponds to the\n",
      "curve where a new point has equal posterior probability of being part of each\n",
      "class. In such a simple case, it is possible to find a classification with\n",
      "perfect completeness and contamination. This is rarely the case in the real\n",
      "world.\n",
      "\"\"\"\n",
      "# Author: Jake VanderPlas\n",
      "# License: BSD\n",
      "#   The figure produced by this code is published in the textbook\n",
      "#   \"Statistics, Data Mining, and Machine Learning in Astronomy\" (2013)\n",
      "#   For more information, see http://astroML.github.com\n",
      "#   To report a bug or issue, use the following forum:\n",
      "#    https://groups.google.com/forum/#!forum/astroml-general\n",
      "import numpy as np\n",
      "from matplotlib import pyplot as plt\n",
      "from matplotlib import colors\n",
      "\n",
      "from sklearn.naive_bayes import GaussianNB\n",
      "\n",
      "#----------------------------------------------------------------------\n",
      "# This function adjusts matplotlib settings for a uniform feel in the textbook.\n",
      "# Note that with usetex=True, fonts are rendered with LaTeX.  This may\n",
      "# result in an error if LaTeX is not installed on your system.  In that case,\n",
      "# you can set usetex to False.\n",
      "from astroML.plotting import setup_text_plots\n",
      "setup_text_plots(fontsize=8, usetex=True)\n",
      "\n",
      "#------------------------------------------------------------\n",
      "# Simulate some data\n",
      "np.random.seed(0)\n",
      "mu1 = [1, 1]\n",
      "cov1 = 0.3 * np.eye(2)\n",
      "\n",
      "mu2 = [5, 3]\n",
      "cov2 = np.eye(2) * np.array([0.4, 0.1])\n",
      "\n",
      "X = np.concatenate([np.random.multivariate_normal(mu1, cov1, 100),\n",
      "                    np.random.multivariate_normal(mu2, cov2, 100)])\n",
      "y = np.zeros(200)\n",
      "y[100:] = 1\n",
      "\n",
      "#------------------------------------------------------------\n",
      "# Fit the Naive Bayes classifier\n",
      "clf = GaussianNB()\n",
      "clf.fit(X, y)\n",
      "\n",
      "# predict the classification probabilities on a grid\n",
      "xlim = (-1, 8)\n",
      "ylim = (-1, 5)\n",
      "xx, yy = np.meshgrid(np.linspace(xlim[0], xlim[1], 71),\n",
      "                     np.linspace(ylim[0], ylim[1], 81))\n",
      "Z = clf.predict_proba(np.c_[xx.ravel(), yy.ravel()])\n",
      "Z = Z[:, 1].reshape(xx.shape)\n",
      "\n",
      "#------------------------------------------------------------\n",
      "# Plot the results\n",
      "fig = plt.figure(figsize=(5, 3.75))\n",
      "ax = fig.add_subplot(111)\n",
      "ax.scatter(X[:, 0], X[:, 1], c=y, cmap=plt.cm.binary, zorder=2)\n",
      "\n",
      "ax.contour(xx, yy, Z, [0.5], colors='k')\n",
      "\n",
      "ax.set_xlim(xlim)\n",
      "ax.set_ylim(ylim)\n",
      "\n",
      "ax.set_xlabel('$x$')\n",
      "ax.set_ylabel('$y$')\n",
      "\n",
      "plt.show()\n"
     ],
     "language": "python",
     "metadata": {},
     "outputs": [
      {
       "metadata": {},
       "output_type": "display_data",
       "png": "[encoded data removed]",
       "text": [
        "<matplotlib.figure.Figure at 0x12025ea10>"
       ]
      }
     ],
     "prompt_number": 44
    },
    {
     "cell_type": "markdown",
     "metadata": {},
     "source": [
      "<h2 align=center>Modified figure: </h2>"
     ]
    },
    {
     "cell_type": "markdown",
     "metadata": {},
     "source": [
      "Preamble: import the modules"
     ]
    },
    {
     "cell_type": "code",
     "collapsed": false,
     "input": [
      "import numpy as np\n",
      "from matplotlib import pyplot as plt\n",
      "from matplotlib import colors\n",
      "\n",
      "from sklearn.naive_bayes import GaussianNB\n",
      "\n",
      "from astroML.plotting import setup_text_plots\n",
      "setup_text_plots(fontsize=16, usetex=True)"
     ],
     "language": "python",
     "metadata": {},
     "outputs": [],
     "prompt_number": 45
    },
    {
     "cell_type": "markdown",
     "metadata": {},
     "source": [
      "<h3 align=center> Make synthetic, noisy, data </h3>\n",
      "First, I'm going to experiment with some of these array manipulations to show that there is no magic here.  Just clever ways to make the synthetic data.\n",
      "\n",
      "+ `np.eye(d)` is the identity matrix of dimension $d$"
     ]
    },
    {
     "cell_type": "code",
     "collapsed": false,
     "input": [
      "print np.eye(4)"
     ],
     "language": "python",
     "metadata": {},
     "outputs": [
      {
       "output_type": "stream",
       "stream": "stdout",
       "text": [
        "[[ 1.  0.  0.  0.]\n",
        " [ 0.  1.  0.  0.]\n",
        " [ 0.  0.  1.  0.]\n",
        " [ 0.  0.  0.  1.]]\n"
       ]
      }
     ],
     "prompt_number": 46
    },
    {
     "cell_type": "markdown",
     "metadata": {},
     "source": [
      "+ The covariance matrix has no off-diagonal terms\n",
      "+ Keep in mind, a $2 \\times 2$ array times a $2 \\times 1 $ array is a $2 \\times 2$ array (i.e., it is *not* matrix multiplication, it is just row times scalar multiplication, or something like \"broadcasting\"...)\n",
      "$$\\left(\n",
      "\\begin{array}{cc}\n",
      " 1 & 0 \\\\\n",
      " 0 & 1 \\\\\n",
      "\\end{array} \\right)\n",
      "\\begin{array}{c}\n",
      " a \\\\\n",
      " b \\\\\n",
      "\\end{array} = \\left(\n",
      "\\begin{array}{cc}\n",
      " a & 0 \\\\\n",
      " 0 & b \\\\\n",
      "\\end{array} \\right) \n",
      "$$"
     ]
    },
    {
     "cell_type": "markdown",
     "metadata": {},
     "source": [
      "+ We have two multivariate normal distributions, in two dimensions (2D).\n",
      "$$\\mathcal{N_0}(\\mu_0, \\Sigma_0)$$\n",
      "$$\\mathcal{N_1}(\\mu_1, \\Sigma_1)$$\n",
      "+ We pick $\\mu_0=(1,1)$ and $\\mu_0=(5,3)$.\n",
      "+ The covariances are:\n",
      "$$\\boldsymbol{\\Sigma_0} = \\left(\n",
      "\\begin{array}{cc}\n",
      " 0.3 & 0 \\\\\n",
      " 0 & 0.3 \\\\\n",
      "\\end{array} \\right)$$\n",
      "\n",
      "$$\\boldsymbol{\\Sigma_1} = \\left(\n",
      "\\begin{array}{cc}\n",
      " 0.4 & 0 \\\\\n",
      " 0 & 0.1 \\\\\n",
      "\\end{array} \\right)$$\n",
      "\n"
     ]
    },
    {
     "cell_type": "code",
     "collapsed": false,
     "input": [
      "#------------------------------------------------------------\n",
      "# Simulate some data\n",
      "np.random.seed(0)\n",
      "mu1 = [1, 1]\n",
      "cov1 = 0.3 * np.eye(2)\n",
      "\n",
      "mu2 = [5, 3]\n",
      "cov2 = np.eye(2) * np.array([0.4, 0.1])"
     ],
     "language": "python",
     "metadata": {},
     "outputs": [],
     "prompt_number": 47
    },
    {
     "cell_type": "markdown",
     "metadata": {},
     "source": [
      "+ We seek a synthetic data set composed of these two populations"
     ]
    },
    {
     "cell_type": "code",
     "collapsed": false,
     "input": [
      "Npts=100\n",
      "mvn0 = np.random.multivariate_normal(mu1, cov1, Npts)\n",
      "mvn1 = np.random.multivariate_normal(mu2, cov2, Npts)"
     ],
     "language": "python",
     "metadata": {},
     "outputs": [],
     "prompt_number": 48
    },
    {
     "cell_type": "markdown",
     "metadata": {},
     "source": [
      "+ *An aside:* `np.concatenate` just sticks the arrays end-on-end, so that they are one dataset composed of two populations, which were originally distinct, but are now only distinguishable from their aggregate properties."
     ]
    },
    {
     "cell_type": "code",
     "collapsed": false,
     "input": [
      "#np.concatenate?\n",
      "print shape(mvn0)\n",
      "print shape([mvn0])\n",
      "print shape([mvn0, mvn1])\n",
      "print shape(np.concatenate([mvn0, mvn1]))\n",
      "X = np.concatenate([mvn0,mvn1], axis=0)"
     ],
     "language": "python",
     "metadata": {},
     "outputs": [
      {
       "output_type": "stream",
       "stream": "stdout",
       "text": [
        "(100, 2)\n",
        "(1, 100, 2)\n",
        "(2, 100, 2)\n",
        "(200, 2)\n"
       ]
      }
     ],
     "prompt_number": 49
    },
    {
     "cell_type": "markdown",
     "metadata": {},
     "source": [
      "+ We assign those points drawn from $\\mathcal{N_1}$ a class, $C$, equal to 1, which is possible since we *know* they were drawn from the same population, since we synthesized the data."
     ]
    },
    {
     "cell_type": "code",
     "collapsed": false,
     "input": [
      "y = np.zeros(200)\n",
      "y[100:] = 1"
     ],
     "language": "python",
     "metadata": {},
     "outputs": [],
     "prompt_number": 50
    },
    {
     "cell_type": "code",
     "collapsed": false,
     "input": [
      "print y"
     ],
     "language": "python",
     "metadata": {},
     "outputs": [
      {
       "output_type": "stream",
       "stream": "stdout",
       "text": [
        "[ 0.  0.  0.  0.  0.  0.  0.  0.  0.  0.  0.  0.  0.  0.  0.  0.  0.  0.\n",
        "  0.  0.  0.  0.  0.  0.  0.  0.  0.  0.  0.  0.  0.  0.  0.  0.  0.  0.\n",
        "  0.  0.  0.  0.  0.  0.  0.  0.  0.  0.  0.  0.  0.  0.  0.  0.  0.  0.\n",
        "  0.  0.  0.  0.  0.  0.  0.  0.  0.  0.  0.  0.  0.  0.  0.  0.  0.  0.\n",
        "  0.  0.  0.  0.  0.  0.  0.  0.  0.  0.  0.  0.  0.  0.  0.  0.  0.  0.\n",
        "  0.  0.  0.  0.  0.  0.  0.  0.  0.  0.  1.  1.  1.  1.  1.  1.  1.  1.\n",
        "  1.  1.  1.  1.  1.  1.  1.  1.  1.  1.  1.  1.  1.  1.  1.  1.  1.  1.\n",
        "  1.  1.  1.  1.  1.  1.  1.  1.  1.  1.  1.  1.  1.  1.  1.  1.  1.  1.\n",
        "  1.  1.  1.  1.  1.  1.  1.  1.  1.  1.  1.  1.  1.  1.  1.  1.  1.  1.\n",
        "  1.  1.  1.  1.  1.  1.  1.  1.  1.  1.  1.  1.  1.  1.  1.  1.  1.  1.\n",
        "  1.  1.  1.  1.  1.  1.  1.  1.  1.  1.  1.  1.  1.  1.  1.  1.  1.  1.\n",
        "  1.  1.]\n"
       ]
      }
     ],
     "prompt_number": 51
    },
    {
     "cell_type": "markdown",
     "metadata": {},
     "source": [
      "Here is the actual machine learning:\n"
     ]
    },
    {
     "cell_type": "code",
     "collapsed": false,
     "input": [
      "'''\n",
      "class GaussianNB(BaseNB)\n",
      " |  Gaussian Naive Bayes (GaussianNB)\n",
      " |  \n",
      " |  Parameters\n",
      " |  ----------\n",
      " |  X : array-like, shape = [n_samples, n_features]\n",
      " |      Training vector, where n_samples in the number of samples and\n",
      " |      n_features is the number of features.\n",
      " |  \n",
      " |  y : array, shape = [n_samples]\n",
      " |      Target vector relative to X\n",
      "'''\n",
      "clf1 = GaussianNB()\n",
      "clf1.fit(X, y)\n",
      "print shape(X)\n",
      "print shape(y)"
     ],
     "language": "python",
     "metadata": {},
     "outputs": [
      {
       "output_type": "stream",
       "stream": "stdout",
       "text": [
        "(200, 2)\n",
        "(200,)\n"
       ]
      }
     ],
     "prompt_number": 52
    },
    {
     "cell_type": "markdown",
     "metadata": {},
     "source": [
      "With a `help(clf1)`, you can see all the Parameters (X, y); Attributes (class_prior_, theta_, sigma_); and Methods (fit, predict, predict_log_proba, predict_proba, get_params, set_params, score).\n",
      "\n",
      "The next section of code is all a clever way of making a list of $(x, y, P)$, where $x, y$ are coordinates and $P$ is the probability of classification.  Ultimately we simply use this list to make a contour plot with a single contour demarcating $P=0.5$, which is the break-even point for naive Bayes classification. \n",
      "\n",
      "> `predict_proba`(self, X) method of sklearn.naive_bayes.GaussianNB instance\n",
      ">\n",
      ">    Return probability estimates for the test vector X.\n",
      ">    \n",
      ">    Parameters\n",
      ">    ----------\n",
      ">    X : array-like, shape = [n_samples, n_features]"
     ]
    },
    {
     "cell_type": "code",
     "collapsed": false,
     "input": [
      "help(clf1.predict_proba)"
     ],
     "language": "python",
     "metadata": {},
     "outputs": [
      {
       "output_type": "stream",
       "stream": "stdout",
       "text": [
        "Help on method predict_proba in module sklearn.naive_bayes:\n",
        "\n",
        "predict_proba(self, X) method of sklearn.naive_bayes.GaussianNB instance\n",
        "    Return probability estimates for the test vector X.\n",
        "    \n",
        "    Parameters\n",
        "    ----------\n",
        "    X : array-like, shape = [n_samples, n_features]\n",
        "    \n",
        "    Returns\n",
        "    -------\n",
        "    C : array-like, shape = [n_samples, n_classes]\n",
        "        Returns the probability of the sample for each class in\n",
        "        the model, where classes are ordered arithmetically.\n",
        "\n"
       ]
      }
     ],
     "prompt_number": 53
    },
    {
     "cell_type": "code",
     "collapsed": false,
     "input": [
      "# predict the classification probabilities on a grid\n",
      "xlim = (-1, 8)\n",
      "ylim = (-1, 5)\n",
      "\n",
      "#help(np.meshgrid):\n",
      "#    Return coordinate matrices from two or more coordinate vectors.\n",
      "\n",
      "xx, yy = np.meshgrid(np.linspace(xlim[0], xlim[1], 71),\n",
      "                     np.linspace(ylim[0], ylim[1], 81))\n",
      "\n",
      "#help(np.c_):\n",
      "#    Translates slice objects to concatenation along the second axis.\n",
      "#help(ravel):\n",
      "#    Return a flattened array.\n",
      "Z = clf1.predict_proba(np.c_[xx.ravel(), yy.ravel()])\n",
      "Zorig = Z\n",
      "Z = Z[:, 1].reshape(xx.shape)"
     ],
     "language": "python",
     "metadata": {},
     "outputs": [],
     "prompt_number": 54
    },
    {
     "cell_type": "code",
     "collapsed": false,
     "input": [
      "print shape(xx)\n",
      "print shape(xx)[0]*shape(xx)[1]\n",
      "print shape(xx.ravel())\n",
      "print shape(np.c_[xx.ravel(),  yy.ravel()])\n",
      "print shape(Zorig)\n",
      "print shape(Z)"
     ],
     "language": "python",
     "metadata": {},
     "outputs": [
      {
       "output_type": "stream",
       "stream": "stdout",
       "text": [
        "(81, 71)\n",
        "5751\n",
        "(5751,)\n",
        "(5751, 2)\n",
        "(5751, 2)\n",
        "(81, 71)\n"
       ]
      }
     ],
     "prompt_number": 55
    },
    {
     "cell_type": "code",
     "collapsed": false,
     "input": [
      "#------------------------------------------------------------\n",
      "# Plot the results\n",
      "fig = plt.figure(figsize=(10, 7.5))\n",
      "ax = fig.add_subplot(111)\n",
      "ax.scatter(X[:, 0], X[:, 1], c=y, cmap=plt.cm.binary, zorder=2)\n",
      "\n",
      "ax.contour(xx, yy, Z, [0.5], colors='k')\n",
      "\n",
      "ax.set_xlim(xlim)\n",
      "ax.set_ylim(ylim)\n",
      "\n",
      "ax.set_xlabel('$x$')\n",
      "ax.set_ylabel('$y$')\n",
      "\n",
      "plt.show()"
     ],
     "language": "python",
     "metadata": {},
     "outputs": [
      {
       "metadata": {},
       "output_type": "display_data",
       "png": "[encoded data removed]",
       "text": [
        "<matplotlib.figure.Figure at 0x120234450>"
       ]
      }
     ],
     "prompt_number": 59
    },
    {
     "cell_type": "markdown",
     "metadata": {},
     "source": [
      "<h2 align=center>Modified figure, modeled after Figure 3.2</2>\n",
      "<h3 align=center>Marginal and conditional probabilities</3>"
     ]
    },
    {
     "cell_type": "code",
     "collapsed": false,
     "input": [
      "xbins = xx[0, :]\n",
      "ybins = yy[:, 0]"
     ],
     "language": "python",
     "metadata": {},
     "outputs": [],
     "prompt_number": 66
    },
    {
     "cell_type": "code",
     "collapsed": false,
     "input": [
      "# plot the result\n",
      "fig = plt.figure(figsize=(12, 6))\n",
      "\n",
      "# define axes\n",
      "ax_Pxy = plt.axes((0.2, 0.34, 0.27, 0.52))\n",
      "ax_Px = plt.axes((0.2, 0.14, 0.27, 0.2))\n",
      "ax_Py = plt.axes((0.1, 0.34, 0.1, 0.52))\n",
      "ax_cb = plt.axes((0.48, 0.34, 0.01, 0.52))\n",
      "ax_Px_y = [plt.axes((0.65, 0.62, 0.32, 0.23)),\n",
      "           plt.axes((0.65, 0.38, 0.32, 0.23)),\n",
      "           plt.axes((0.65, 0.14, 0.32, 0.23))]\n",
      "\n",
      "# set axis label formatters\n",
      "ax_Px_y[0].xaxis.set_major_formatter(NullFormatter())\n",
      "ax_Px_y[1].xaxis.set_major_formatter(NullFormatter())\n",
      "\n",
      "ax_Pxy.xaxis.set_major_formatter(NullFormatter())\n",
      "ax_Pxy.yaxis.set_major_formatter(NullFormatter())\n",
      "\n",
      "ax_Px.yaxis.set_major_formatter(NullFormatter())\n",
      "ax_Py.xaxis.set_major_formatter(NullFormatter())\n",
      "\n",
      "# draw the joint probability\n",
      "plt.axes(ax_Pxy)\n",
      "Z *= 1000\n",
      "plt.imshow(Z, interpolation='nearest', origin='lower', aspect='auto',\n",
      "           extent=[-1, 9, -1, 6], cmap=plt.cm.binary)\n",
      "\n",
      "cb = plt.colorbar(cax=ax_cb)\n",
      "cb.set_label('$p(x, y)$')\n",
      "plt.text(0, 1.02, r'$\\times 10^{-3}$',\n",
      "         transform=ax_cb.transAxes) \n",
      "''' This transform argument is sort of sophisticated...\n",
      "    -gully'''\n",
      "\n",
      "# draw p(x) distribution\n",
      "ax_Px.plot(xbins, Z.sum(0), '-k', drawstyle='steps')\n",
      "\n",
      "# draw p(y) distribution\n",
      "ax_Py.plot(Z.sum(1), ybins, '-k', drawstyle='steps')\n",
      "\n",
      "''' Summing along an axis is as easy as H.sum()\n",
      "    The argument of the sum is the dimension over which \n",
      "    the sum is performed.  0 is the x-axis, 1 is the y-axis.\n",
      "    -gully'''\n",
      "\n",
      "# define axis limits\n",
      "ax_Pxy.set_xlim(-1, 8)\n",
      "ax_Pxy.set_ylim(-1, 5)\n",
      "ax_Px.set_xlim(-1, 8)\n",
      "ax_Py.set_ylim(-1, 5)\n",
      "\n",
      "# label axes\n",
      "ax_Pxy.set_xlabel('$x$')\n",
      "ax_Pxy.set_ylabel('$y$')\n",
      "ax_Px.set_xlabel('$x$')\n",
      "ax_Px.set_ylabel('$p(x)$')\n",
      "ax_Px.yaxis.set_label_position('right')\n",
      "ax_Py.set_ylabel('$y$')\n",
      "ax_Py.set_xlabel('$p(y)$')\n",
      "ax_Py.xaxis.set_label_position('top')\n",
      "\n",
      "# draw marginal probabilities\n",
      "Ngrid = 71\n",
      "iy = [3 * Ngrid / 4, Ngrid / 2, Ngrid / 4]\n",
      "''' which slices of the p(x,y) to take.  \n",
      "    Here we define the index 0.25, 0.50, 0.75 of the range\n",
      "    p(x | y = 0.5), p(x | y = 1.0), p(x | y = 1.5)\n",
      "    -gully '''\n",
      "\n",
      "colors = 'rgc'\n",
      "#print 'type(colors)', type(colors)\n",
      "''' apparently a string is also a list of characters\n",
      "    -gully''' \n",
      "\n",
      "axis = ax_Pxy.axis()\n",
      "for i in range(3):\n",
      "    # overplot range on joint probability\n",
      "    ax_Pxy.plot([-1, 9, -1, 9],\n",
      "                [ybins[iy[i] + 1], ybins[iy[i] + 1],\n",
      "                 ybins[iy[i]], ybins[iy[i]]], c=colors[i], lw=1)\n",
      "    Px_y = Z[iy[i]] / Z[iy[i]].sum() \n",
      "    ''' Px_y is the same as P( x | y = something )\n",
      "        -gully '''\n",
      "    ax_Px_y[i].plot(xbins, Px_y, drawstyle='steps', c=colors[i])\n",
      "    ax_Px_y[i].yaxis.set_major_formatter(NullFormatter())\n",
      "    ''' a-ha, this is why the intermediate plots showed labels on\n",
      "        the y-axis for the right-hand-side plot.\n",
      "        -gully'''\n",
      "    ax_Px_y[i].set_ylabel('$p(x | %.1f)$' % ybins[iy[i]])\n",
      "ax_Pxy.axis(axis)\n",
      "''' I don't understand what the above axis call does... just a reset?'''\n",
      "\n",
      "ax_Px_y[2].set_xlabel('$x$')\n",
      "\n",
      "ax_Pxy.set_title('Joint Probability')\n",
      "ax_Px_y[0].set_title('Conditional Probability')\n",
      "\n",
      "plt.show()\n"
     ],
     "language": "python",
     "metadata": {},
     "outputs": [
      {
       "metadata": {},
       "output_type": "display_data",
       "png": "[encoded data removed]",
       "text": [
        "<matplotlib.figure.Figure at 0x122c8c990>"
       ]
      }
     ],
     "prompt_number": 70
    },
    {
     "cell_type": "markdown",
     "metadata": {},
     "source": [
      "Hmm... this can't be quite right, since the figure will change depending on which $x-$ and $y-$ limits I select.  The conditional probably plots are fine, but the marginal probabilities are not normalizable (the area under the curve is infinite).  That makes sense because the probability we're plotting is not a probability density, $p$, it's a probability $P$.  Anyways, it's not integrable so it's not normalizable.  The end."
     ]
    },
    {
     "cell_type": "code",
     "collapsed": false,
     "input": [],
     "language": "python",
     "metadata": {},
     "outputs": []
    }
   ],
   "metadata": {}
  }
 ]
}